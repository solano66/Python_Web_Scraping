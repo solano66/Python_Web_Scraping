{
 "cells": [
  {
   "cell_type": "code",
   "execution_count": 10,
   "metadata": {},
   "outputs": [
    {
     "name": "stdout",
     "output_type": "stream",
     "text": [
      "貼圖ID: obj['id']\n",
      "貼圖ID: obj['id']\n",
      "貼圖ID: obj['id']\n",
      "貼圖ID: obj['id']\n",
      "貼圖ID: obj['id']\n",
      "貼圖ID: obj['id']\n",
      "貼圖ID: obj['id']\n",
      "貼圖ID: obj['id']\n",
      "貼圖ID: obj['id']\n",
      "貼圖ID: obj['id']\n",
      "貼圖ID: obj['id']\n",
      "貼圖ID: obj['id']\n",
      "貼圖ID: obj['id']\n",
      "貼圖ID: obj['id']\n",
      "貼圖ID: obj['id']\n",
      "貼圖ID: obj['id']\n",
      "貼圖ID: obj['id']\n",
      "貼圖ID: obj['id']\n",
      "貼圖ID: obj['id']\n",
      "貼圖ID: obj['id']\n",
      "貼圖ID: obj['id']\n",
      "貼圖ID: obj['id']\n",
      "貼圖ID: obj['id']\n",
      "貼圖ID: obj['id']\n"
     ]
    }
   ],
   "source": [
    "import requests as req\n",
    "import os, json\n",
    "from bs4 import BeautifulSoup as bs\n",
    "\n",
    "folderPath = 'line_stickers'\n",
    "if not os.path.exists(folderPath):\n",
    "    os.makedirs(folderPath)\n",
    "\n",
    "list_line_stickers = []\n",
    "\n",
    "url = 'https://store.line.me/stickershop/product/33525/zh-Hant'\n",
    "res = req.get(url)\n",
    "soup = bs(res.text, 'lxml')\n",
    "\n",
    "li_elements = soup.select(\n",
    "    'ul.mdCMN09Ul.FnStickerList > li.mdCMN09Li.FnStickerPreviewItem'\n",
    ")\n",
    "for li in li_elements:\n",
    "    strJson = li['data-preview']\n",
    "\n",
    "    obj = json.loads(strJson)\n",
    "\n",
    "    list_line_stickers.append(obj)\n",
    "\n",
    "for obj in list_line_stickers:\n",
    "    os.system(\n",
    "        f\"curl {obj['soundUrl']} -o {folderPath}/{obj['id']}.m4a\"\n",
    "    )\n",
    "    print(f\"貼圖ID: obj{['id']}\")"
   ]
  }
 ],
 "metadata": {
  "kernelspec": {
   "display_name": "web_scraping",
   "language": "python",
   "name": "python3"
  },
  "language_info": {
   "codemirror_mode": {
    "name": "ipython",
    "version": 3
   },
   "file_extension": ".py",
   "mimetype": "text/x-python",
   "name": "python",
   "nbconvert_exporter": "python",
   "pygments_lexer": "ipython3",
   "version": "3.10.15"
  }
 },
 "nbformat": 4,
 "nbformat_minor": 2
}

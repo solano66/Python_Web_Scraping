{
 "cells": [
  {
   "cell_type": "code",
   "execution_count": 1,
   "metadata": {},
   "outputs": [],
   "source": [
    "# 匯入 regex 套件\n",
    "import re"
   ]
  },
  {
   "cell_type": "code",
   "execution_count": 4,
   "metadata": {},
   "outputs": [
    {
     "name": "stdout",
     "output_type": "stream",
     "text": [
      "<re.Match object; span=(0, 10), match='2024/09/18'>\n",
      "2024/09/18\n",
      "18\n"
     ]
    }
   ],
   "source": [
    "regx01 = r'2[0-9]{3}\\/[01]?[0-9]\\/([0-3]?[0-9])'\n",
    "string01 = \"2024/09/18\"\n",
    "match01 = re.match(regx01, string01)\n",
    "print(match01)\n",
    "print(match01.group(0))\n",
    "print(match01.group(1))"
   ]
  },
  {
   "cell_type": "code",
   "execution_count": null,
   "metadata": {},
   "outputs": [
    {
     "name": "stdout",
     "output_type": "stream",
     "text": [
      "['0911111111', '0922222222', '0933333333']\n",
      "0922222222\n"
     ]
    }
   ],
   "source": [
    "regx02 = r'09[0-9]{8}'\n",
    "string02 = \"0911111111, 0922222222, 0933333333\"\n",
    "listMatch02 = re.findall(regx02, string02)\n",
    "print(listMatch02)\n",
    "print(listMatch02[1])"
   ]
  },
  {
   "cell_type": "code",
   "execution_count": 12,
   "metadata": {},
   "outputs": [
    {
     "name": "stdout",
     "output_type": "stream",
     "text": [
      "['1', '2', '3']\n",
      "2\n"
     ]
    }
   ],
   "source": [
    "# 有group 的話會回傳 group 的\n",
    "regx02 = r'[0-9]{9}(\\d)'\n",
    "string02 = \"0911111111, 0922222222, 0933333333\"\n",
    "listMatch02 = re.findall(regx02, string02)\n",
    "print(listMatch02)\n",
    "print(listMatch02[1])"
   ]
  },
  {
   "cell_type": "code",
   "execution_count": 16,
   "metadata": {},
   "outputs": [
    {
     "name": "stdout",
     "output_type": "stream",
     "text": [
      "<re.Match object; span=(0, 10), match='0911111111'>\n",
      "0911111111\n",
      "-----------------------\n",
      "<re.Match object; span=(12, 22), match='0922222222'>\n",
      "0922222222\n",
      "-----------------------\n",
      "<re.Match object; span=(24, 34), match='0933333333'>\n",
      "0933333333\n",
      "-----------------------\n"
     ]
    }
   ],
   "source": [
    "regx03 = r'[0-9]+'\n",
    "string03 = \"0911111111, 0922222222, 0933333333\"\n",
    "iterMatch03 = re.finditer(regx03, string03)\n",
    "if iterMatch03 != None:\n",
    "    for match in iterMatch03:\n",
    "        print(match)\n",
    "        print(match[0])\n",
    "        print(\"-----------------------\")"
   ]
  },
  {
   "cell_type": "code",
   "execution_count": 20,
   "metadata": {},
   "outputs": [
    {
     "name": "stdout",
     "output_type": "stream",
     "text": [
      "<re.Match object; span=(10, 20), match='A123456789'>\n",
      "1\n"
     ]
    }
   ],
   "source": [
    "regex04 = r'[a-zA-Z]([12])\\d{8}'\n",
    "string04 = \"dsnf2132, A123456789, S299888777\"\n",
    "match04 = re.search(regex04, string04)\n",
    "print(match04)\n",
    "print(match04[1])"
   ]
  },
  {
   "cell_type": "code",
   "execution_count": 23,
   "metadata": {},
   "outputs": [
    {
     "name": "stdout",
     "output_type": "stream",
     "text": [
      "['One', 'Two', 'Three', 'Four', '']\n"
     ]
    }
   ],
   "source": [
    "regex05 = r'\\d'\n",
    "string05 = \"One1Two2Three3Four4\"\n",
    "listmatch05 = re.split(regex05, string05)\n",
    "print(listmatch05)"
   ]
  },
  {
   "cell_type": "code",
   "execution_count": 24,
   "metadata": {},
   "outputs": [
    {
     "name": "stdout",
     "output_type": "stream",
     "text": [
      "5201314\n"
     ]
    }
   ],
   "source": [
    "regex06 = r'\\D'\n",
    "string06 = \"5-20 #1314\"\n",
    "strResult = re.sub(regex06, \"\", string06)\n",
    "print(strResult)"
   ]
  },
  {
   "cell_type": "markdown",
   "metadata": {},
   "source": [
    "環視"
   ]
  },
  {
   "cell_type": "code",
   "execution_count": 27,
   "metadata": {},
   "outputs": [
    {
     "name": "stdout",
     "output_type": "stream",
     "text": [
      "一天一蘋果醫生遠離我。An apple a day keeps the doctor away.\n"
     ]
    }
   ],
   "source": [
    "regex07 = r'\\s(?![a-zA-z])'\n",
    "string07 = \"一 天 一 蘋 果 醫 生 遠 離 我。An apple a day keeps the doctor away.\"\n",
    "strResult02 = re.sub(regex07, \"\", string07)\n",
    "print(strResult02)"
   ]
  },
  {
   "cell_type": "code",
   "execution_count": 49,
   "metadata": {},
   "outputs": [
    {
     "name": "stdout",
     "output_type": "stream",
     "text": [
      "123,456,789,000\n"
     ]
    }
   ],
   "source": [
    "regex08 = r'(?<=\\d)(?=(\\d{3})+\\b)'\n",
    "string08 = '123456789000'\n",
    "strResult03 = re.sub(regex08, ',', string08)\n",
    "print(strResult03)"
   ]
  },
  {
   "cell_type": "code",
   "execution_count": 42,
   "metadata": {},
   "outputs": [
    {
     "name": "stdout",
     "output_type": "stream",
     "text": [
      "1\n"
     ]
    }
   ],
   "source": [
    "regex09 = r'[A-Z](?P<gender>[12])\\d{8}'\n",
    "string09 = \"A100000001\"\n",
    "match09 = re.match(regex09, string09)\n",
    "print(match09['gender'])"
   ]
  }
 ],
 "metadata": {
  "kernelspec": {
   "display_name": "web_scraping",
   "language": "python",
   "name": "python3"
  },
  "language_info": {
   "codemirror_mode": {
    "name": "ipython",
    "version": 3
   },
   "file_extension": ".py",
   "mimetype": "text/x-python",
   "name": "python",
   "nbconvert_exporter": "python",
   "pygments_lexer": "ipython3",
   "version": "3.10.15"
  }
 },
 "nbformat": 4,
 "nbformat_minor": 2
}

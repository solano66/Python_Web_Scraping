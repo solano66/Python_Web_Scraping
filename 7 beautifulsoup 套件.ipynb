{
 "cells": [
  {
   "cell_type": "code",
   "execution_count": 1,
   "id": "5a441807",
   "metadata": {},
   "outputs": [],
   "source": [
    "'''\n",
    "參考網頁\n",
    "[1] Python 使用 Beautiful Soup 抓取與解析網頁資料，開發網路爬蟲教學\n",
    "https://blog.gtwang.org/programming/python-beautiful-soup-module-scrape-web-pages-tutorial/2/\n",
    "'''\n",
    "\n",
    "import requests as req\n",
    "from bs4 import BeautifulSoup as bs\n",
    "\n",
    " # PTT NBA 板\n",
    "url = \"https://www.ptt.cc/bbs/NBA/index.html\"\n",
    "\n",
    "# 用 requests 的 get 方法把網頁抓下來\n",
    "res = req.get(url) \n",
    "\n",
    "# 指定 lxml 作為解析器\n",
    "soup = bs(res.text, \"lxml\") "
   ]
  },
  {
   "cell_type": "code",
   "execution_count": 2,
   "id": "33639bed",
   "metadata": {},
   "outputs": [
    {
     "name": "stdout",
     "output_type": "stream",
     "text": [
      "<a href=\"/bbs/\" id=\"logo\">批踢踢實業坊</a>\n",
      "[<a href=\"/bbs/\" id=\"logo\">批踢踢實業坊</a>, <a class=\"board\" href=\"/bbs/NBA/index.html\"><span class=\"board-label\">看板 </span>NBA</a>, <a class=\"right small\" href=\"/about.html\">關於我們</a>, <a class=\"right small\" href=\"/contact.html\">聯絡資訊</a>, <a class=\"btn selected\" href=\"/bbs/NBA/index.html\">看板</a>, <a class=\"btn\" href=\"/man/NBA/index.html\">精華區</a>, <a class=\"btn wide\" href=\"/bbs/NBA/index1.html\">最舊</a>, <a class=\"btn wide\" href=\"/bbs/NBA/index6506.html\">‹ 上頁</a>, <a class=\"btn wide disabled\">下頁 ›</a>, <a class=\"btn wide\" href=\"/bbs/NBA/index.html\">最新</a>, <a href=\"/bbs/NBA/M.1733903879.A.D97.html\">[花邊] 老巴盛讚雷霆:他們可以輕易贏下西區</a>, <a href=\"/bbs/NBA/search?q=thread%3A%5B%E8%8A%B1%E9%82%8A%5D+%E8%80%81%E5%B7%B4%E7%9B%9B%E8%AE%9A%E9%9B%B7%E9%9C%86%3A%E4%BB%96%E5%80%91%E5%8F%AF%E4%BB%A5%E8%BC%95%E6%98%93%E8%B4%8F%E4%B8%8B%E8%A5%BF%E5%8D%80\">搜尋同標題文章</a>, <a href=\"/bbs/NBA/search?q=author%3Abengowa\">搜尋看板內 bengowa 的文章</a>, <a href=\"/bbs/NBA/M.1728456762.A.CB2.html\">[公告] 板規10.1</a>, <a href=\"/bbs/NBA/search?q=thread%3A%5B%E5%85%AC%E5%91%8A%5D+%E6%9D%BF%E8%A6%8F10.1\">搜尋同標題文章</a>, <a href=\"/bbs/NBA/search?q=author%3Apneumo\">搜尋看板內 pneumo 的文章</a>, <a href=\"/bbs/NBA/M.1733101092.A.1F5.html\">[情報] NBA Cup Schedule (12/01 ~ 12/31)</a>, <a href=\"/bbs/NBA/search?q=thread%3A%5B%E6%83%85%E5%A0%B1%5D+NBA+Cup+Schedule+%2812%2F01+~+12%2F31%29\">搜尋同標題文章</a>, <a href=\"/bbs/NBA/search?q=author%3Aguardyo\">搜尋看板內 guardyo 的文章</a>, <a href=\"/bbs/NBA/M.1733892439.A.BBF.html\">[公告] NBA 板 開始舉辦樂透!</a>, <a href=\"/bbs/NBA/search?q=thread%3A%5B%E5%85%AC%E5%91%8A%5D+NBA+%E6%9D%BF+%E9%96%8B%E5%A7%8B%E8%88%89%E8%BE%A6%E6%A8%82%E9%80%8F%21\">搜尋同標題文章</a>, <a href=\"/bbs/NBA/search?q=author%3Ac27932589\">搜尋看板內 c27932589 的文章</a>, <a href=\"/bbs/NBA/M.1733893089.A.B5D.html\">[情報] NBA Standings (Dec. 11, 2024)</a>, <a href=\"/bbs/NBA/search?q=thread%3A%5B%E6%83%85%E5%A0%B1%5D+NBA+Standings+%28Dec.+11%2C+2024%29\">搜尋同標題文章</a>, <a href=\"/bbs/NBA/search?q=author%3Aguardyo\">搜尋看板內 guardyo 的文章</a>]\n",
      "<a class=\"right small\" href=\"/about.html\">關於我們</a>\n"
     ]
    }
   ],
   "source": [
    "# 第一個 <a></a>\n",
    "print(soup.find(\"a\")) \n",
    "\n",
    "# 全部 <a></a>，此時回傳 list\n",
    "print(soup.find_all(\"a\")) \n",
    "\n",
    "# 指定 list 某個元素的 html\n",
    "print(soup.find_all(\"a\")[2]) "
   ]
  },
  {
   "cell_type": "code",
   "execution_count": 3,
   "id": "532d85f1",
   "metadata": {},
   "outputs": [
    {
     "name": "stdout",
     "output_type": "stream",
     "text": [
      "<a href=\"/bbs/\" id=\"logo\">批踢踢實業坊</a>\n",
      "[<div class=\"r-ent\">\n",
      "<div class=\"nrec\"><span class=\"hl f2\">2</span></div>\n",
      "<div class=\"title\">\n",
      "<a href=\"/bbs/NBA/M.1733903879.A.D97.html\">[花邊] 老巴盛讚雷霆:他們可以輕易贏下西區</a>\n",
      "</div>\n",
      "<div class=\"meta\">\n",
      "<div class=\"author\">bengowa</div>\n",
      "<div class=\"article-menu\">\n",
      "<div class=\"trigger\">⋯</div>\n",
      "<div class=\"dropdown\">\n",
      "<div class=\"item\"><a href=\"/bbs/NBA/search?q=thread%3A%5B%E8%8A%B1%E9%82%8A%5D+%E8%80%81%E5%B7%B4%E7%9B%9B%E8%AE%9A%E9%9B%B7%E9%9C%86%3A%E4%BB%96%E5%80%91%E5%8F%AF%E4%BB%A5%E8%BC%95%E6%98%93%E8%B4%8F%E4%B8%8B%E8%A5%BF%E5%8D%80\">搜尋同標題文章</a></div>\n",
      "<div class=\"item\"><a href=\"/bbs/NBA/search?q=author%3Abengowa\">搜尋看板內 bengowa 的文章</a></div>\n",
      "</div>\n",
      "</div>\n",
      "<div class=\"date\">12/11</div>\n",
      "<div class=\"mark\"></div>\n",
      "</div>\n",
      "</div>, <div class=\"r-ent\">\n",
      "<div class=\"nrec\"></div>\n",
      "<div class=\"title\">\n",
      "<a href=\"/bbs/NBA/M.1728456762.A.CB2.html\">[公告] 板規10.1</a>\n",
      "</div>\n",
      "<div class=\"meta\">\n",
      "<div class=\"author\">pneumo</div>\n",
      "<div class=\"article-menu\">\n",
      "<div class=\"trigger\">⋯</div>\n",
      "<div class=\"dropdown\">\n",
      "<div class=\"item\"><a href=\"/bbs/NBA/search?q=thread%3A%5B%E5%85%AC%E5%91%8A%5D+%E6%9D%BF%E8%A6%8F10.1\">搜尋同標題文章</a></div>\n",
      "<div class=\"item\"><a href=\"/bbs/NBA/search?q=author%3Apneumo\">搜尋看板內 pneumo 的文章</a></div>\n",
      "</div>\n",
      "</div>\n",
      "<div class=\"date\">10/09</div>\n",
      "<div class=\"mark\">!</div>\n",
      "</div>\n",
      "</div>, <div class=\"r-ent\">\n",
      "<div class=\"nrec\"><span class=\"hl f3\">12</span></div>\n",
      "<div class=\"title\">\n",
      "<a href=\"/bbs/NBA/M.1733101092.A.1F5.html\">[情報] NBA Cup Schedule (12/01 ~ 12/31)</a>\n",
      "</div>\n",
      "<div class=\"meta\">\n",
      "<div class=\"author\">guardyo</div>\n",
      "<div class=\"article-menu\">\n",
      "<div class=\"trigger\">⋯</div>\n",
      "<div class=\"dropdown\">\n",
      "<div class=\"item\"><a href=\"/bbs/NBA/search?q=thread%3A%5B%E6%83%85%E5%A0%B1%5D+NBA+Cup+Schedule+%2812%2F01+~+12%2F31%29\">搜尋同標題文章</a></div>\n",
      "<div class=\"item\"><a href=\"/bbs/NBA/search?q=author%3Aguardyo\">搜尋看板內 guardyo 的文章</a></div>\n",
      "</div>\n",
      "</div>\n",
      "<div class=\"date\">12/02</div>\n",
      "<div class=\"mark\">M</div>\n",
      "</div>\n",
      "</div>, <div class=\"r-ent\">\n",
      "<div class=\"nrec\"></div>\n",
      "<div class=\"title\">\n",
      "<a href=\"/bbs/NBA/M.1733892439.A.BBF.html\">[公告] NBA 板 開始舉辦樂透!</a>\n",
      "</div>\n",
      "<div class=\"meta\">\n",
      "<div class=\"author\">c27932589</div>\n",
      "<div class=\"article-menu\">\n",
      "<div class=\"trigger\">⋯</div>\n",
      "<div class=\"dropdown\">\n",
      "<div class=\"item\"><a href=\"/bbs/NBA/search?q=thread%3A%5B%E5%85%AC%E5%91%8A%5D+NBA+%E6%9D%BF+%E9%96%8B%E5%A7%8B%E8%88%89%E8%BE%A6%E6%A8%82%E9%80%8F%21\">搜尋同標題文章</a></div>\n",
      "<div class=\"item\"><a href=\"/bbs/NBA/search?q=author%3Ac27932589\">搜尋看板內 c27932589 的文章</a></div>\n",
      "</div>\n",
      "</div>\n",
      "<div class=\"date\">12/11</div>\n",
      "<div class=\"mark\">M</div>\n",
      "</div>\n",
      "</div>, <div class=\"r-ent\">\n",
      "<div class=\"nrec\"><span class=\"hl f3\">13</span></div>\n",
      "<div class=\"title\">\n",
      "<a href=\"/bbs/NBA/M.1733893089.A.B5D.html\">[情報] NBA Standings (Dec. 11, 2024)</a>\n",
      "</div>\n",
      "<div class=\"meta\">\n",
      "<div class=\"author\">guardyo</div>\n",
      "<div class=\"article-menu\">\n",
      "<div class=\"trigger\">⋯</div>\n",
      "<div class=\"dropdown\">\n",
      "<div class=\"item\"><a href=\"/bbs/NBA/search?q=thread%3A%5B%E6%83%85%E5%A0%B1%5D+NBA+Standings+%28Dec.+11%2C+2024%29\">搜尋同標題文章</a></div>\n",
      "<div class=\"item\"><a href=\"/bbs/NBA/search?q=author%3Aguardyo\">搜尋看板內 guardyo 的文章</a></div>\n",
      "</div>\n",
      "</div>\n",
      "<div class=\"date\">12/11</div>\n",
      "<div class=\"mark\"></div>\n",
      "</div>\n",
      "</div>]\n"
     ]
    }
   ],
   "source": [
    "# 取得 id 為 logo 的元素\n",
    "a = soup.find(id = \"logo\")\n",
    "print(a)\n",
    "\n",
    "# 取得所有 div，類別名稱為 r-ent，回傳為 list\n",
    "divs = soup.find_all(\"div\", class_ = \"r-ent\")\n",
    "print(divs)"
   ]
  },
  {
   "cell_type": "code",
   "execution_count": 4,
   "id": "9c1ddf9a",
   "metadata": {},
   "outputs": [
    {
     "name": "stdout",
     "output_type": "stream",
     "text": [
      "<title>看板 NBA 文章列表 - 批踢踢實業坊</title>\n",
      "[<a href=\"/bbs/\" id=\"logo\">批踢踢實業坊</a>, <a class=\"board\" href=\"/bbs/NBA/index.html\"><span class=\"board-label\">看板 </span>NBA</a>, <a class=\"right small\" href=\"/about.html\">關於我們</a>, <a class=\"right small\" href=\"/contact.html\">聯絡資訊</a>, <a class=\"btn selected\" href=\"/bbs/NBA/index.html\">看板</a>, <a class=\"btn\" href=\"/man/NBA/index.html\">精華區</a>, <a class=\"btn wide\" href=\"/bbs/NBA/index1.html\">最舊</a>, <a class=\"btn wide\" href=\"/bbs/NBA/index6506.html\">‹ 上頁</a>, <a class=\"btn wide disabled\">下頁 ›</a>, <a class=\"btn wide\" href=\"/bbs/NBA/index.html\">最新</a>, <a href=\"/bbs/NBA/M.1733903879.A.D97.html\">[花邊] 老巴盛讚雷霆:他們可以輕易贏下西區</a>, <a href=\"/bbs/NBA/search?q=thread%3A%5B%E8%8A%B1%E9%82%8A%5D+%E8%80%81%E5%B7%B4%E7%9B%9B%E8%AE%9A%E9%9B%B7%E9%9C%86%3A%E4%BB%96%E5%80%91%E5%8F%AF%E4%BB%A5%E8%BC%95%E6%98%93%E8%B4%8F%E4%B8%8B%E8%A5%BF%E5%8D%80\">搜尋同標題文章</a>, <a href=\"/bbs/NBA/search?q=author%3Abengowa\">搜尋看板內 bengowa 的文章</a>, <a href=\"/bbs/NBA/M.1728456762.A.CB2.html\">[公告] 板規10.1</a>, <a href=\"/bbs/NBA/search?q=thread%3A%5B%E5%85%AC%E5%91%8A%5D+%E6%9D%BF%E8%A6%8F10.1\">搜尋同標題文章</a>, <a href=\"/bbs/NBA/search?q=author%3Apneumo\">搜尋看板內 pneumo 的文章</a>, <a href=\"/bbs/NBA/M.1733101092.A.1F5.html\">[情報] NBA Cup Schedule (12/01 ~ 12/31)</a>, <a href=\"/bbs/NBA/search?q=thread%3A%5B%E6%83%85%E5%A0%B1%5D+NBA+Cup+Schedule+%2812%2F01+~+12%2F31%29\">搜尋同標題文章</a>, <a href=\"/bbs/NBA/search?q=author%3Aguardyo\">搜尋看板內 guardyo 的文章</a>, <a href=\"/bbs/NBA/M.1733892439.A.BBF.html\">[公告] NBA 板 開始舉辦樂透!</a>, <a href=\"/bbs/NBA/search?q=thread%3A%5B%E5%85%AC%E5%91%8A%5D+NBA+%E6%9D%BF+%E9%96%8B%E5%A7%8B%E8%88%89%E8%BE%A6%E6%A8%82%E9%80%8F%21\">搜尋同標題文章</a>, <a href=\"/bbs/NBA/search?q=author%3Ac27932589\">搜尋看板內 c27932589 的文章</a>, <a href=\"/bbs/NBA/M.1733893089.A.B5D.html\">[情報] NBA Standings (Dec. 11, 2024)</a>, <a href=\"/bbs/NBA/search?q=thread%3A%5B%E6%83%85%E5%A0%B1%5D+NBA+Standings+%28Dec.+11%2C+2024%29\">搜尋同標題文章</a>, <a href=\"/bbs/NBA/search?q=author%3Aguardyo\">搜尋看板內 guardyo 的文章</a>]\n",
      "[<a class=\"board\" href=\"/bbs/NBA/index.html\"><span class=\"board-label\">看板 </span>NBA</a>]\n",
      "<a href=\"/bbs/\" id=\"logo\">批踢踢實業坊</a>\n",
      "[<a class=\"board\" href=\"/bbs/NBA/index.html\"><span class=\"board-label\">看板 </span>NBA</a>]\n"
     ]
    }
   ],
   "source": [
    "'''\n",
    "以下透過 CSS selector 取得元素，\n",
    "回傳格式為 list\n",
    "'''\n",
    "# 輸出 title\n",
    "print(soup.select_one('title'))\n",
    "\n",
    "# 輸出 a\n",
    "print(soup.select('a'))\n",
    "\n",
    "# 透過 class 名稱取得元素\n",
    "print(soup.select(\"a.board\"))\n",
    "\n",
    "# 透過 id 名稱取得元素\n",
    "print(soup.select_one(\"#logo\"))\n",
    "\n",
    "# 透過 attribute 取得元素\n",
    "print(soup.select('a[class=\"board\"]'))"
   ]
  },
  {
   "cell_type": "code",
   "execution_count": 5,
   "id": "77efcd15",
   "metadata": {},
   "outputs": [
    {
     "name": "stdout",
     "output_type": "stream",
     "text": [
      "看板 NBA 文章列表 - 批踢踢實業坊\n",
      "批踢踢實業坊\n"
     ]
    }
   ],
   "source": [
    "# 取得單一節點的文字內容 (select_one 會回傳單一 bs element 物件，select 會回傳 list)\n",
    "print(soup.select_one('title').get_text())\n",
    "print(soup.select('a')[0].get_text())"
   ]
  },
  {
   "cell_type": "code",
   "execution_count": 6,
   "id": "59d702d3",
   "metadata": {},
   "outputs": [
    {
     "name": "stdout",
     "output_type": "stream",
     "text": [
      "批踢踢實業坊\n",
      "看板 NBA\n",
      "關於我們\n",
      "聯絡資訊\n",
      "看板\n",
      "精華區\n",
      "最舊\n",
      "‹ 上頁\n",
      "下頁 ›\n",
      "最新\n",
      "[花邊] 老巴盛讚雷霆:他們可以輕易贏下西區\n",
      "搜尋同標題文章\n",
      "搜尋看板內 bengowa 的文章\n",
      "[公告] 板規10.1\n",
      "搜尋同標題文章\n",
      "搜尋看板內 pneumo 的文章\n",
      "[情報] NBA Cup Schedule (12/01 ~ 12/31)\n",
      "搜尋同標題文章\n",
      "搜尋看板內 guardyo 的文章\n",
      "[公告] NBA 板 開始舉辦樂透!\n",
      "搜尋同標題文章\n",
      "搜尋看板內 c27932589 的文章\n",
      "[情報] NBA Standings (Dec. 11, 2024)\n",
      "搜尋同標題文章\n",
      "搜尋看板內 guardyo 的文章\n"
     ]
    }
   ],
   "source": [
    "# 透過迭代取得所有 a 的文字內容\n",
    "for a in soup.select('a'):\n",
    "    print(a.get_text())"
   ]
  },
  {
   "cell_type": "code",
   "execution_count": null,
   "id": "8b5ccf58",
   "metadata": {},
   "outputs": [
    {
     "name": "stdout",
     "output_type": "stream",
     "text": [
      "/bbs/\n",
      "/bbs/NBA/index.html\n",
      "/about.html\n",
      "/contact.html\n",
      "/bbs/NBA/index.html\n",
      "/man/NBA/index.html\n",
      "/bbs/NBA/index1.html\n",
      "/bbs/NBA/index6506.html\n",
      "==================================================\n",
      "連結[下頁 ›] 沒有 href 屬性\n",
      "==================================================\n",
      "/bbs/NBA/index.html\n",
      "/bbs/NBA/M.1733903879.A.D97.html\n",
      "/bbs/NBA/search?q=thread%3A%5B%E8%8A%B1%E9%82%8A%5D+%E8%80%81%E5%B7%B4%E7%9B%9B%E8%AE%9A%E9%9B%B7%E9%9C%86%3A%E4%BB%96%E5%80%91%E5%8F%AF%E4%BB%A5%E8%BC%95%E6%98%93%E8%B4%8F%E4%B8%8B%E8%A5%BF%E5%8D%80\n",
      "/bbs/NBA/search?q=author%3Abengowa\n",
      "/bbs/NBA/M.1728456762.A.CB2.html\n",
      "/bbs/NBA/search?q=thread%3A%5B%E5%85%AC%E5%91%8A%5D+%E6%9D%BF%E8%A6%8F10.1\n",
      "/bbs/NBA/search?q=author%3Apneumo\n",
      "/bbs/NBA/M.1733101092.A.1F5.html\n",
      "/bbs/NBA/search?q=thread%3A%5B%E6%83%85%E5%A0%B1%5D+NBA+Cup+Schedule+%2812%2F01+~+12%2F31%29\n",
      "/bbs/NBA/search?q=author%3Aguardyo\n",
      "/bbs/NBA/M.1733892439.A.BBF.html\n",
      "/bbs/NBA/search?q=thread%3A%5B%E5%85%AC%E5%91%8A%5D+NBA+%E6%9D%BF+%E9%96%8B%E5%A7%8B%E8%88%89%E8%BE%A6%E6%A8%82%E9%80%8F%21\n",
      "/bbs/NBA/search?q=author%3Ac27932589\n",
      "/bbs/NBA/M.1733893089.A.B5D.html\n",
      "/bbs/NBA/search?q=thread%3A%5B%E6%83%85%E5%A0%B1%5D+NBA+Standings+%28Dec.+11%2C+2024%29\n",
      "/bbs/NBA/search?q=author%3Aguardyo\n"
     ]
    }
   ],
   "source": [
    "# 透過迭代取得所有 a 的屬性 href\n",
    "for a in soup.select('a'):\n",
    "    if a.has_attr('href'):\n",
    "        print(a['href']) # print(a.get('href')) 相同\n",
    "    else:\n",
    "        print(\"=\" * 50)\n",
    "        print(f\"連結[{a.get_text()}] 沒有 href 屬性\")\n",
    "        print(\"=\" * 50)"
   ]
  }
 ],
 "metadata": {
  "kernelspec": {
   "display_name": "web_scraping_py3.10",
   "language": "python",
   "name": "python3"
  },
  "language_info": {
   "codemirror_mode": {
    "name": "ipython",
    "version": 3
   },
   "file_extension": ".py",
   "mimetype": "text/x-python",
   "name": "python",
   "nbconvert_exporter": "python",
   "pygments_lexer": "ipython3",
   "version": "3.10.15"
  }
 },
 "nbformat": 4,
 "nbformat_minor": 5
}

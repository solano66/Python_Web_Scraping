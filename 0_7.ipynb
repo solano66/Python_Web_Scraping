{
 "cells": [
  {
   "cell_type": "code",
   "execution_count": 4,
   "metadata": {},
   "outputs": [],
   "source": [
    "import requests as req\n",
    "from bs4 import BeautifulSoup as bs\n",
    "\n",
    "url = 'https://www.ptt.cc/bbs/NBA/index.html'\n",
    "\n",
    "res = req.get(url)\n",
    "\n",
    "soup = bs(res.text, \"lxml\")"
   ]
  },
  {
   "cell_type": "code",
   "execution_count": 9,
   "metadata": {},
   "outputs": [
    {
     "data": {
      "text/plain": [
       "<a class=\"right small\" href=\"/about.html\">關於我們</a>"
      ]
     },
     "execution_count": 9,
     "metadata": {},
     "output_type": "execute_result"
    }
   ],
   "source": [
    "soup.find('a')\n",
    "soup.find_all('a')[2]"
   ]
  },
  {
   "cell_type": "code",
   "execution_count": 14,
   "metadata": {},
   "outputs": [],
   "source": [
    "a = soup.find(id=\"logo\")\n",
    "divs = soup.find_all(\"div\", class_=\"r-ent\")"
   ]
  },
  {
   "cell_type": "code",
   "execution_count": 17,
   "metadata": {},
   "outputs": [
    {
     "name": "stdout",
     "output_type": "stream",
     "text": [
      "[<a href=\"/bbs/\" id=\"logo\">批踢踢實業坊</a>, <a class=\"board\" href=\"/bbs/NBA/index.html\"><span class=\"board-label\">看板 </span>NBA</a>, <a class=\"right small\" href=\"/about.html\">關於我們</a>, <a class=\"right small\" href=\"/contact.html\">聯絡資訊</a>, <a class=\"btn selected\" href=\"/bbs/NBA/index.html\">看板</a>, <a class=\"btn\" href=\"/man/NBA/index.html\">精華區</a>, <a class=\"btn wide\" href=\"/bbs/NBA/index1.html\">最舊</a>, <a class=\"btn wide\" href=\"/bbs/NBA/index6503.html\">‹ 上頁</a>, <a class=\"btn wide disabled\">下頁 ›</a>, <a class=\"btn wide\" href=\"/bbs/NBA/index.html\">最新</a>, <a href=\"/bbs/NBA/M.1733131276.A.798.html\">[情報] Dillon Brooks狄龍跟SGA邊笑邊爭球</a>, <a href=\"/bbs/NBA/search?q=thread%3A%5B%E6%83%85%E5%A0%B1%5D+Dillon+Brooks%E7%8B%84%E9%BE%8D%E8%B7%9FSGA%E9%82%8A%E7%AC%91%E9%82%8A%E7%88%AD%E7%90%83\">搜尋同標題文章</a>, <a href=\"/bbs/NBA/search?q=author%3ANTU5566NTHU\">搜尋看板內 NTU5566NTHU 的文章</a>, <a href=\"/bbs/NBA/M.1733132423.A.178.html\">[花邊] 登登：我不知道你在說什麼</a>, <a href=\"/bbs/NBA/search?q=thread%3A%5B%E8%8A%B1%E9%82%8A%5D+%E7%99%BB%E7%99%BB%EF%BC%9A%E6%88%91%E4%B8%8D%E7%9F%A5%E9%81%93%E4%BD%A0%E5%9C%A8%E8%AA%AA%E4%BB%80%E9%BA%BC\">搜尋同標題文章</a>, <a href=\"/bbs/NBA/search?q=author%3ASeanLi1013\">搜尋看板內 SeanLi1013 的文章</a>, <a href=\"/bbs/NBA/M.1733134891.A.430.html\">[情報] Harden生涯打Jokic勝率聯盟第一(至少24場</a>, <a href=\"/bbs/NBA/search?q=thread%3A%5B%E6%83%85%E5%A0%B1%5D+Harden%E7%94%9F%E6%B6%AF%E6%89%93Jokic%E5%8B%9D%E7%8E%87%E8%81%AF%E7%9B%9F%E7%AC%AC%E4%B8%80%28%E8%87%B3%E5%B0%9124%E5%A0%B4\">搜尋同標題文章</a>, <a href=\"/bbs/NBA/search?q=author%3AWeasley40\">搜尋看板內 Weasley40 的文章</a>, <a href=\"/bbs/NBA/M.1733136797.A.324.html\">Re: [情報] Harden生涯打Jokic勝率聯盟第一(至少24場</a>, <a href=\"/bbs/NBA/search?q=thread%3A%5B%E6%83%85%E5%A0%B1%5D+Harden%E7%94%9F%E6%B6%AF%E6%89%93Jokic%E5%8B%9D%E7%8E%87%E8%81%AF%E7%9B%9F%E7%AC%AC%E4%B8%80%28%E8%87%B3%E5%B0%9124%E5%A0%B4\">搜尋同標題文章</a>, <a href=\"/bbs/NBA/search?q=author%3ADespairile\">搜尋看板內 Despairile 的文章</a>, <a href=\"/bbs/NBA/M.1733151178.A.DA4.html\">[情報] Ben Simmons 左膝挫傷</a>, <a href=\"/bbs/NBA/search?q=thread%3A%5B%E6%83%85%E5%A0%B1%5D+Ben+Simmons+%E5%B7%A6%E8%86%9D%E6%8C%AB%E5%82%B7\">搜尋同標題文章</a>, <a href=\"/bbs/NBA/search?q=author%3Athnlkj0665\">搜尋看板內 thnlkj0665 的文章</a>, <a href=\"/bbs/NBA/M.1733152417.A.4F3.html\">[討論] 國王是不是有太多該被淘汰的球員</a>, <a href=\"/bbs/NBA/search?q=thread%3A%5B%E8%A8%8E%E8%AB%96%5D+%E5%9C%8B%E7%8E%8B%E6%98%AF%E4%B8%8D%E6%98%AF%E6%9C%89%E5%A4%AA%E5%A4%9A%E8%A9%B2%E8%A2%AB%E6%B7%98%E6%B1%B0%E7%9A%84%E7%90%83%E5%93%A1\">搜尋同標題文章</a>, <a href=\"/bbs/NBA/search?q=author%3Ak960674\">搜尋看板內 k960674 的文章</a>, <a href=\"/bbs/NBA/M.1733161211.A.F0B.html\">[情報] 快艇客隊罰球命中率僅有72.7%</a>, <a href=\"/bbs/NBA/search?q=thread%3A%5B%E6%83%85%E5%A0%B1%5D+%E5%BF%AB%E8%89%87%E5%AE%A2%E9%9A%8A%E7%BD%B0%E7%90%83%E5%91%BD%E4%B8%AD%E7%8E%87%E5%83%85%E6%9C%8972.7%25\">搜尋同標題文章</a>, <a href=\"/bbs/NBA/search?q=author%3AEZ78\">搜尋看板內 EZ78 的文章</a>, <a href=\"/bbs/NBA/M.1733182351.A.311.html\">[情報] 上週東西區最佳球員: Brunson, Sengun </a>, <a href=\"/bbs/NBA/search?q=thread%3A%5B%E6%83%85%E5%A0%B1%5D+%E4%B8%8A%E9%80%B1%E6%9D%B1%E8%A5%BF%E5%8D%80%E6%9C%80%E4%BD%B3%E7%90%83%E5%93%A1%3A+Brunson%2C+Sengun+\">搜尋同標題文章</a>, <a href=\"/bbs/NBA/search?q=author%3AMaxwell5566\">搜尋看板內 Maxwell5566 的文章</a>, <a href=\"/bbs/NBA/M.1733184015.A.80E.html\">[Live] 熱火 @ 塞爾提克</a>, <a href=\"/bbs/NBA/search?q=thread%3A%5BLive%5D+%E7%86%B1%E7%81%AB+%40+%E5%A1%9E%E7%88%BE%E6%8F%90%E5%85%8B\">搜尋同標題文章</a>, <a href=\"/bbs/NBA/search?q=author%3Ajason911152\">搜尋看板內 jason911152 的文章</a>, <a href=\"/bbs/NBA/M.1733184016.A.CE6.html\">[Live] 鵜鶘 @ 老鷹</a>, <a href=\"/bbs/NBA/search?q=thread%3A%5BLive%5D+%E9%B5%9C%E9%B6%98+%40+%E8%80%81%E9%B7%B9\">搜尋同標題文章</a>, <a href=\"/bbs/NBA/search?q=author%3Athnlkj0665\">搜尋看板內 thnlkj0665 的文章</a>, <a href=\"/bbs/NBA/M.1733185804.A.BE9.html\">[Live] 湖人 @ 灰狼</a>, <a href=\"/bbs/NBA/search?q=thread%3A%5BLive%5D+%E6%B9%96%E4%BA%BA+%40+%E7%81%B0%E7%8B%BC\">搜尋同標題文章</a>, <a href=\"/bbs/NBA/search?q=author%3Ajason911152\">搜尋看板內 jason911152 的文章</a>, <a href=\"/bbs/NBA/M.1733185807.A.480.html\">[Live] 籃網 @ 公牛</a>, <a href=\"/bbs/NBA/search?q=thread%3A%5BLive%5D+%E7%B1%83%E7%B6%B2+%40+%E5%85%AC%E7%89%9B\">搜尋同標題文章</a>, <a href=\"/bbs/NBA/search?q=author%3Athnlkj0665\">搜尋看板內 thnlkj0665 的文章</a>, <a href=\"/bbs/NBA/M.1733192502.A.AB5.html\">[情報] Embiid因傷勢管理及個人因素明天不打</a>, <a href=\"/bbs/NBA/search?q=thread%3A%5B%E6%83%85%E5%A0%B1%5D+Embiid%E5%9B%A0%E5%82%B7%E5%8B%A2%E7%AE%A1%E7%90%86%E5%8F%8A%E5%80%8B%E4%BA%BA%E5%9B%A0%E7%B4%A0%E6%98%8E%E5%A4%A9%E4%B8%8D%E6%89%93\">搜尋同標題文章</a>, <a href=\"/bbs/NBA/search?q=author%3AKai877\">搜尋看板內 Kai877 的文章</a>, <a href=\"/bbs/NBA/M.1733193710.A.390.html\">[花邊] 切入造犯率前十名(出手數&gt;200次)</a>, <a href=\"/bbs/NBA/search?q=thread%3A%5B%E8%8A%B1%E9%82%8A%5D+%E5%88%87%E5%85%A5%E9%80%A0%E7%8A%AF%E7%8E%87%E5%89%8D%E5%8D%81%E5%90%8D%28%E5%87%BA%E6%89%8B%E6%95%B8%3E200%E6%AC%A1%29\">搜尋同標題文章</a>, <a href=\"/bbs/NBA/search?q=author%3Aliefuchen\">搜尋看板內 liefuchen 的文章</a>, <a href=\"/bbs/NBA/M.1733193869.A.868.html\">[BOX ] Heat 89:108 Celtics</a>, <a href=\"/bbs/NBA/search?q=thread%3A%5BBOX+%5D+Heat+89%3A108+Celtics\">搜尋同標題文章</a>, <a href=\"/bbs/NBA/search?q=author%3ARambo\">搜尋看板內 Rambo 的文章</a>, <a href=\"/bbs/NBA/M.1733194370.A.8C9.html\">[BOX ] Pelicans 112:124 Hawks</a>, <a href=\"/bbs/NBA/search?q=thread%3A%5BBOX+%5D+Pelicans+112%3A124+Hawks\">搜尋同標題文章</a>, <a href=\"/bbs/NBA/search?q=author%3ARambo\">搜尋看板內 Rambo 的文章</a>, <a href=\"/bbs/NBA/M.1733195737.A.F07.html\">[公告] NBA 樂透開獎</a>, <a href=\"/bbs/NBA/search?q=thread%3A%5B%E5%85%AC%E5%91%8A%5D+NBA+%E6%A8%82%E9%80%8F%E9%96%8B%E7%8D%8E\">搜尋同標題文章</a>, <a href=\"/bbs/NBA/M.1733195739.A.BCF.html\">[BOX ] Lakers 80:109 Timberwolves</a>, <a href=\"/bbs/NBA/search?q=thread%3A%5BBOX+%5D+Lakers+80%3A109+Timberwolves\">搜尋同標題文章</a>, <a href=\"/bbs/NBA/search?q=author%3ARambo\">搜尋看板內 Rambo 的文章</a>, <a href=\"/bbs/NBA/M.1728456762.A.CB2.html\">[公告] 板規10.1</a>, <a href=\"/bbs/NBA/search?q=thread%3A%5B%E5%85%AC%E5%91%8A%5D+%E6%9D%BF%E8%A6%8F10.1\">搜尋同標題文章</a>, <a href=\"/bbs/NBA/search?q=author%3Apneumo\">搜尋看板內 pneumo 的文章</a>, <a href=\"/bbs/NBA/M.1733101092.A.1F5.html\">[情報] 2024-25 NBA Schedule (12/01 ~ 12/31)</a>, <a href=\"/bbs/NBA/search?q=thread%3A%5B%E6%83%85%E5%A0%B1%5D+2024-25+NBA+Schedule+%2812%2F01+~+12%2F31%29\">搜尋同標題文章</a>, <a href=\"/bbs/NBA/search?q=author%3Aguardyo\">搜尋看板內 guardyo 的文章</a>, <a href=\"/bbs/NBA/M.1733119611.A.D8D.html\">[公告] NBA 板 開始舉辦樂透!</a>, <a href=\"/bbs/NBA/search?q=thread%3A%5B%E5%85%AC%E5%91%8A%5D+NBA+%E6%9D%BF+%E9%96%8B%E5%A7%8B%E8%88%89%E8%BE%A6%E6%A8%82%E9%80%8F%21\">搜尋同標題文章</a>, <a href=\"/bbs/NBA/search?q=author%3Ac27932589\">搜尋看板內 c27932589 的文章</a>, <a href=\"/bbs/NBA/M.1733131127.A.CA6.html\">[情報] NBA Standings (Dec. 02, 2024)</a>, <a href=\"/bbs/NBA/search?q=thread%3A%5B%E6%83%85%E5%A0%B1%5D+NBA+Standings+%28Dec.+02%2C+2024%29\">搜尋同標題文章</a>, <a href=\"/bbs/NBA/search?q=author%3Ajack34031\">搜尋看板內 jack34031 的文章</a>]\n",
      "[<a class=\"board\" href=\"/bbs/NBA/index.html\"><span class=\"board-label\">看板 </span>NBA</a>]\n",
      "<a href=\"/bbs/\" id=\"logo\">批踢踢實業坊</a>\n",
      "[<a class=\"board\" href=\"/bbs/NBA/index.html\"><span class=\"board-label\">看板 </span>NBA</a>]\n"
     ]
    }
   ],
   "source": [
    "soup.select_one('title')\n",
    "print(soup.select('a'))\n",
    "print(soup.select('a.board'))\n",
    "print(soup.select_one('#logo'))\n",
    "print(soup.select('a[class=\"board\"]'))"
   ]
  },
  {
   "cell_type": "code",
   "execution_count": 20,
   "metadata": {},
   "outputs": [
    {
     "data": {
      "text/plain": [
       "'批踢踢實業坊'"
      ]
     },
     "execution_count": 20,
     "metadata": {},
     "output_type": "execute_result"
    }
   ],
   "source": [
    "soup.select_one('title').get_text()\n",
    "soup.select('a')[0].get_text()"
   ]
  },
  {
   "cell_type": "code",
   "execution_count": 27,
   "metadata": {},
   "outputs": [
    {
     "name": "stdout",
     "output_type": "stream",
     "text": [
      "/bbs/\n",
      "/bbs/NBA/index.html\n",
      "/about.html\n",
      "/contact.html\n",
      "/bbs/NBA/index.html\n",
      "/man/NBA/index.html\n",
      "/bbs/NBA/index1.html\n",
      "/bbs/NBA/index6503.html\n",
      "==================================================\n",
      "連結[下頁 ›] 沒有 href 屬性\n",
      "==================================================\n",
      "/bbs/NBA/index.html\n",
      "/bbs/NBA/M.1733131276.A.798.html\n",
      "/bbs/NBA/search?q=thread%3A%5B%E6%83%85%E5%A0%B1%5D+Dillon+Brooks%E7%8B%84%E9%BE%8D%E8%B7%9FSGA%E9%82%8A%E7%AC%91%E9%82%8A%E7%88%AD%E7%90%83\n",
      "/bbs/NBA/search?q=author%3ANTU5566NTHU\n",
      "/bbs/NBA/M.1733132423.A.178.html\n",
      "/bbs/NBA/search?q=thread%3A%5B%E8%8A%B1%E9%82%8A%5D+%E7%99%BB%E7%99%BB%EF%BC%9A%E6%88%91%E4%B8%8D%E7%9F%A5%E9%81%93%E4%BD%A0%E5%9C%A8%E8%AA%AA%E4%BB%80%E9%BA%BC\n",
      "/bbs/NBA/search?q=author%3ASeanLi1013\n",
      "/bbs/NBA/M.1733134891.A.430.html\n",
      "/bbs/NBA/search?q=thread%3A%5B%E6%83%85%E5%A0%B1%5D+Harden%E7%94%9F%E6%B6%AF%E6%89%93Jokic%E5%8B%9D%E7%8E%87%E8%81%AF%E7%9B%9F%E7%AC%AC%E4%B8%80%28%E8%87%B3%E5%B0%9124%E5%A0%B4\n",
      "/bbs/NBA/search?q=author%3AWeasley40\n",
      "/bbs/NBA/M.1733136797.A.324.html\n",
      "/bbs/NBA/search?q=thread%3A%5B%E6%83%85%E5%A0%B1%5D+Harden%E7%94%9F%E6%B6%AF%E6%89%93Jokic%E5%8B%9D%E7%8E%87%E8%81%AF%E7%9B%9F%E7%AC%AC%E4%B8%80%28%E8%87%B3%E5%B0%9124%E5%A0%B4\n",
      "/bbs/NBA/search?q=author%3ADespairile\n",
      "/bbs/NBA/M.1733151178.A.DA4.html\n",
      "/bbs/NBA/search?q=thread%3A%5B%E6%83%85%E5%A0%B1%5D+Ben+Simmons+%E5%B7%A6%E8%86%9D%E6%8C%AB%E5%82%B7\n",
      "/bbs/NBA/search?q=author%3Athnlkj0665\n",
      "/bbs/NBA/M.1733152417.A.4F3.html\n",
      "/bbs/NBA/search?q=thread%3A%5B%E8%A8%8E%E8%AB%96%5D+%E5%9C%8B%E7%8E%8B%E6%98%AF%E4%B8%8D%E6%98%AF%E6%9C%89%E5%A4%AA%E5%A4%9A%E8%A9%B2%E8%A2%AB%E6%B7%98%E6%B1%B0%E7%9A%84%E7%90%83%E5%93%A1\n",
      "/bbs/NBA/search?q=author%3Ak960674\n",
      "/bbs/NBA/M.1733161211.A.F0B.html\n",
      "/bbs/NBA/search?q=thread%3A%5B%E6%83%85%E5%A0%B1%5D+%E5%BF%AB%E8%89%87%E5%AE%A2%E9%9A%8A%E7%BD%B0%E7%90%83%E5%91%BD%E4%B8%AD%E7%8E%87%E5%83%85%E6%9C%8972.7%25\n",
      "/bbs/NBA/search?q=author%3AEZ78\n",
      "/bbs/NBA/M.1733182351.A.311.html\n",
      "/bbs/NBA/search?q=thread%3A%5B%E6%83%85%E5%A0%B1%5D+%E4%B8%8A%E9%80%B1%E6%9D%B1%E8%A5%BF%E5%8D%80%E6%9C%80%E4%BD%B3%E7%90%83%E5%93%A1%3A+Brunson%2C+Sengun+\n",
      "/bbs/NBA/search?q=author%3AMaxwell5566\n",
      "/bbs/NBA/M.1733184015.A.80E.html\n",
      "/bbs/NBA/search?q=thread%3A%5BLive%5D+%E7%86%B1%E7%81%AB+%40+%E5%A1%9E%E7%88%BE%E6%8F%90%E5%85%8B\n",
      "/bbs/NBA/search?q=author%3Ajason911152\n",
      "/bbs/NBA/M.1733184016.A.CE6.html\n",
      "/bbs/NBA/search?q=thread%3A%5BLive%5D+%E9%B5%9C%E9%B6%98+%40+%E8%80%81%E9%B7%B9\n",
      "/bbs/NBA/search?q=author%3Athnlkj0665\n",
      "/bbs/NBA/M.1733185804.A.BE9.html\n",
      "/bbs/NBA/search?q=thread%3A%5BLive%5D+%E6%B9%96%E4%BA%BA+%40+%E7%81%B0%E7%8B%BC\n",
      "/bbs/NBA/search?q=author%3Ajason911152\n",
      "/bbs/NBA/M.1733185807.A.480.html\n",
      "/bbs/NBA/search?q=thread%3A%5BLive%5D+%E7%B1%83%E7%B6%B2+%40+%E5%85%AC%E7%89%9B\n",
      "/bbs/NBA/search?q=author%3Athnlkj0665\n",
      "/bbs/NBA/M.1733192502.A.AB5.html\n",
      "/bbs/NBA/search?q=thread%3A%5B%E6%83%85%E5%A0%B1%5D+Embiid%E5%9B%A0%E5%82%B7%E5%8B%A2%E7%AE%A1%E7%90%86%E5%8F%8A%E5%80%8B%E4%BA%BA%E5%9B%A0%E7%B4%A0%E6%98%8E%E5%A4%A9%E4%B8%8D%E6%89%93\n",
      "/bbs/NBA/search?q=author%3AKai877\n",
      "/bbs/NBA/M.1733193710.A.390.html\n",
      "/bbs/NBA/search?q=thread%3A%5B%E8%8A%B1%E9%82%8A%5D+%E5%88%87%E5%85%A5%E9%80%A0%E7%8A%AF%E7%8E%87%E5%89%8D%E5%8D%81%E5%90%8D%28%E5%87%BA%E6%89%8B%E6%95%B8%3E200%E6%AC%A1%29\n",
      "/bbs/NBA/search?q=author%3Aliefuchen\n",
      "/bbs/NBA/M.1733193869.A.868.html\n",
      "/bbs/NBA/search?q=thread%3A%5BBOX+%5D+Heat+89%3A108+Celtics\n",
      "/bbs/NBA/search?q=author%3ARambo\n",
      "/bbs/NBA/M.1733194370.A.8C9.html\n",
      "/bbs/NBA/search?q=thread%3A%5BBOX+%5D+Pelicans+112%3A124+Hawks\n",
      "/bbs/NBA/search?q=author%3ARambo\n",
      "/bbs/NBA/M.1733195737.A.F07.html\n",
      "/bbs/NBA/search?q=thread%3A%5B%E5%85%AC%E5%91%8A%5D+NBA+%E6%A8%82%E9%80%8F%E9%96%8B%E7%8D%8E\n",
      "/bbs/NBA/M.1733195739.A.BCF.html\n",
      "/bbs/NBA/search?q=thread%3A%5BBOX+%5D+Lakers+80%3A109+Timberwolves\n",
      "/bbs/NBA/search?q=author%3ARambo\n",
      "/bbs/NBA/M.1728456762.A.CB2.html\n",
      "/bbs/NBA/search?q=thread%3A%5B%E5%85%AC%E5%91%8A%5D+%E6%9D%BF%E8%A6%8F10.1\n",
      "/bbs/NBA/search?q=author%3Apneumo\n",
      "/bbs/NBA/M.1733101092.A.1F5.html\n",
      "/bbs/NBA/search?q=thread%3A%5B%E6%83%85%E5%A0%B1%5D+2024-25+NBA+Schedule+%2812%2F01+~+12%2F31%29\n",
      "/bbs/NBA/search?q=author%3Aguardyo\n",
      "/bbs/NBA/M.1733119611.A.D8D.html\n",
      "/bbs/NBA/search?q=thread%3A%5B%E5%85%AC%E5%91%8A%5D+NBA+%E6%9D%BF+%E9%96%8B%E5%A7%8B%E8%88%89%E8%BE%A6%E6%A8%82%E9%80%8F%21\n",
      "/bbs/NBA/search?q=author%3Ac27932589\n",
      "/bbs/NBA/M.1733131127.A.CA6.html\n",
      "/bbs/NBA/search?q=thread%3A%5B%E6%83%85%E5%A0%B1%5D+NBA+Standings+%28Dec.+02%2C+2024%29\n",
      "/bbs/NBA/search?q=author%3Ajack34031\n"
     ]
    }
   ],
   "source": [
    "for a in soup.select('a'):\n",
    "    if a.has_attr('href'):\n",
    "        print(a['href'])\n",
    "        # print(a.get('href')) 同上相同\n",
    "    else:\n",
    "        print(\"=\" * 50)\n",
    "        print(f\"連結[{a.get_text()}] 沒有 href 屬性\")\n",
    "        print(\"=\" * 50)\n",
    "        "
   ]
  },
  {
   "cell_type": "code",
   "execution_count": null,
   "metadata": {},
   "outputs": [],
   "source": []
  }
 ],
 "metadata": {
  "kernelspec": {
   "display_name": "web_scraping",
   "language": "python",
   "name": "python3"
  },
  "language_info": {
   "codemirror_mode": {
    "name": "ipython",
    "version": 3
   },
   "file_extension": ".py",
   "mimetype": "text/x-python",
   "name": "python",
   "nbconvert_exporter": "python",
   "pygments_lexer": "ipython3",
   "version": "3.10.15"
  }
 },
 "nbformat": 4,
 "nbformat_minor": 2
}

{
 "cells": [
  {
   "cell_type": "code",
   "execution_count": 4,
   "metadata": {},
   "outputs": [],
   "source": [
    "from selenium.webdriver.chrome.service import Service\n",
    "from selenium import webdriver\n",
    "from selenium.common.exceptions import TimeoutException\n",
    "from selenium.webdriver.support.ui import WebDriverWait\n",
    "from selenium.webdriver.support import expected_conditions as EC\n",
    "from selenium.webdriver.common.by import By\n",
    "from time import sleep\n",
    "\n",
    "my_options = webdriver.ChromeOptions()\n",
    "# my_options.add_argument(\"--headless\")\n",
    "my_options.add_argument(\"--start-maximized\")\n",
    "my_options.add_argument(\"--incognito\")\n",
    "my_options.add_argument(\"--disable-popup-blocking\")\n",
    "my_options.add_argument(\"--disable-notifications\")\n",
    "my_options.add_argument(\"--lang=zh-TW\")\n",
    "\n",
    "driver = webdriver.Chrome(options=my_options)"
   ]
  },
  {
   "cell_type": "code",
   "execution_count": 9,
   "metadata": {},
   "outputs": [],
   "source": [
    "driver.get(\"https://crptransfer.moe.gov.tw/\")\n",
    "\n",
    "driver.execute_script(\n",
    "    \"window.alert('自訂彈跳視窗');\"\n",
    ")\n",
    "\n",
    "sleep(3)\n",
    "\n",
    "driver.switch_to.alert.accept()"
   ]
  },
  {
   "cell_type": "code",
   "execution_count": 12,
   "metadata": {},
   "outputs": [
    {
     "name": "stdout",
     "output_type": "stream",
     "text": [
      "ㄖㄣˊㄕㄨㄞˋㄓㄣㄏㄠˇ\n",
      "ㄖㄣˊㄕㄨㄞˋㄓㄣㄏㄠˇ\n"
     ]
    }
   ],
   "source": [
    "driver.get(\"https://crptransfer.moe.gov.tw/\")\n",
    "\n",
    "inputElement = driver.find_element(\n",
    "    By.CSS_SELECTOR, 'input#SN'\n",
    ")\n",
    "inputElement.send_keys(\"人帥真好\")\n",
    "\n",
    "sleep(2)\n",
    "\n",
    "inputElement.submit()\n",
    "\n",
    "cssSelector = \"body > table > tbody > tr:nth-child(1) > td > main > article > div > table > tbody > tr:nth-child(2) > td\"\n",
    "\n",
    "try:\n",
    "    WebDriverWait(driver, 10).until(\n",
    "        EC.presence_of_all_elements_located(\n",
    "            (By.CSS_SELECTOR, cssSelector)\n",
    "        )\n",
    "    )\n",
    "\n",
    "    element = driver.find_element(\n",
    "        By.CSS_SELECTOR, cssSelector\n",
    "    )\n",
    "\n",
    "    print(element.text)\n",
    "    print(element.get_attribute('innerText'))\n",
    "except TimeoutException:\n",
    "    print('等待逾時')"
   ]
  },
  {
   "cell_type": "code",
   "execution_count": 14,
   "metadata": {},
   "outputs": [],
   "source": [
    "driver.get(\"https://www.104.com.tw/jobs/main/\")\n",
    "\n",
    "inputElement = driver.find_element(\n",
    "    By.CSS_SELECTOR, 'input[data-gtm-index^=搜尋欄位]'\n",
    ")\n",
    "\n",
    "inputElement.send_keys('python')\n",
    "\n",
    "sleep(3)\n",
    "\n",
    "cssSelectorBtn = 'button[data-gtm-index^=搜尋欄位][type=submit]'\n",
    "\n",
    "try:\n",
    "    WebDriverWait(driver, 10).until(\n",
    "        EC.presence_of_all_elements_located(\n",
    "            (By.CSS_SELECTOR, cssSelectorBtn)\n",
    "        )\n",
    "    )\n",
    "\n",
    "    btn = driver.find_element(\n",
    "        By.CSS_SELECTOR, cssSelectorBtn\n",
    "    )\n",
    "\n",
    "    btn.click()\n",
    "except TimeoutException:\n",
    "    print('等待逾時')"
   ]
  },
  {
   "cell_type": "code",
   "execution_count": null,
   "metadata": {},
   "outputs": [],
   "source": [
    "driver.get(\"https://reurl.cc/jR725D\")\n",
    "\n",
    "sleep(3)\n",
    "\n",
    "driver.refresh()\n",
    "\n",
    "sleep(3)\n",
    "\n",
    "driver.refresh()\n",
    "\n",
    "sleep(3)\n",
    "\n",
    "driver.quit()"
   ]
  }
 ],
 "metadata": {
  "kernelspec": {
   "display_name": "web_scraping",
   "language": "python",
   "name": "python3"
  },
  "language_info": {
   "codemirror_mode": {
    "name": "ipython",
    "version": 3
   },
   "file_extension": ".py",
   "mimetype": "text/x-python",
   "name": "python",
   "nbconvert_exporter": "python",
   "pygments_lexer": "ipython3",
   "version": "3.10.15"
  }
 },
 "nbformat": 4,
 "nbformat_minor": 2
}

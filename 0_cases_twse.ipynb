{
 "cells": [
  {
   "cell_type": "code",
   "execution_count": 5,
   "metadata": {},
   "outputs": [],
   "source": [
    "from selenium import webdriver\n",
    "from selenium.webdriver.common.by import By\n",
    "from time import sleep\n",
    "import os\n",
    "from selenium.webdriver.support.ui import Select\n",
    "\n",
    "my_options = webdriver.ChromeOptions()\n",
    "# my_options.add_argument(\"--headless\")\n",
    "my_options.add_argument(\"--start-maximized\")\n",
    "my_options.add_argument(\"--incognito\")\n",
    "my_options.add_argument(\"--disable-popup-blocking\")\n",
    "my_options.add_argument(\"--disable-notifications\")\n",
    "\n",
    "folderPath = os.path.join(os.getcwd(), 'files')\n",
    "if not os.path.exists(folderPath):\n",
    "    os.makedirs(folderPath)\n",
    "\n",
    "my_options.add_experimental_option(\"prefs\", {\n",
    "    \"download.default_directory\": folderPath,\n",
    "    \"profile.default_content_settings.popups\": 0,\n",
    "    \"download.prompt_for_download\": False,\n",
    "    # \"download.directory_upgrade\": True,\n",
    "    # \"safebrowsing_for_trusted_sources_enabled\": False,\n",
    "    # \"safebrowsing.enabled\": False,\n",
    "    # \"plugins.always_open_pdf_externally\": True\n",
    "})\n",
    "\n",
    "driver = webdriver.Chrome(\n",
    "    options = my_options\n",
    ")\n",
    "\n",
    "url = 'https://www.twse.com.tw/zh/page/trading/fund/TWT38U.html'"
   ]
  },
  {
   "cell_type": "code",
   "execution_count": 18,
   "metadata": {},
   "outputs": [],
   "source": [
    "def visit():\n",
    "    driver.get(url)\n",
    "\n",
    "def setDropDownMenu(year, value, index):\n",
    "    sleep(1)\n",
    "\n",
    "    yy = Select(driver.find_element(By.CSS_SELECTOR, 'select[name=yy]'))\n",
    "    yy.select_by_visible_text(f'民國 {year} 年')\n",
    "\n",
    "    mm = Select(driver.find_element(By.CSS_SELECTOR, 'select[name=mm]'))\n",
    "    mm.select_by_value(str(value))\n",
    "\n",
    "    dd = Select(driver.find_element(By.CSS_SELECTOR, 'select[name=dd]'))\n",
    "    dd.select_by_index(index)\n",
    "\n",
    "    driver.find_element(By.CSS_SELECTOR, 'div.submit').click()\n",
    "\n",
    "def download(year, value, index):\n",
    "    year = 1911 + year\n",
    "    value = '0' + str(value) if value < 10 else str(value)\n",
    "    index = '0' + str(index + 1) if (index + 1) < 10 else str(index + 1)\n",
    "    date = f'{year}{value}{index}'\n",
    "    os.system(\n",
    "        f'curl \"https://www.twse.com.tw/rwd/zh/fund/TWT38U?date={date}&response=csv\" -o {folderPath}/{date}.csv'\n",
    "    )\n",
    "    \n",
    "    driver.save_screenshot(f'{folderPath}/{date}.png')\n",
    "\n",
    "def close():\n",
    "    driver.quit()\n"
   ]
  },
  {
   "cell_type": "code",
   "execution_count": 19,
   "metadata": {},
   "outputs": [],
   "source": [
    "visit()\n",
    "year = 100\n",
    "value = 2\n",
    "index = 8\n",
    "setDropDownMenu(year, value, index)\n",
    "download(year, value, index)\n",
    "close()"
   ]
  }
 ],
 "metadata": {
  "kernelspec": {
   "display_name": "web_scraping",
   "language": "python",
   "name": "python3"
  },
  "language_info": {
   "codemirror_mode": {
    "name": "ipython",
    "version": 3
   },
   "file_extension": ".py",
   "mimetype": "text/x-python",
   "name": "python",
   "nbconvert_exporter": "python",
   "pygments_lexer": "ipython3",
   "version": "3.10.15"
  }
 },
 "nbformat": 4,
 "nbformat_minor": 2
}

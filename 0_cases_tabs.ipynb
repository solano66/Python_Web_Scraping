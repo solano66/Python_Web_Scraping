{
 "cells": [
  {
   "cell_type": "code",
   "execution_count": 8,
   "metadata": {},
   "outputs": [],
   "source": [
    "from selenium import webdriver\n",
    "from selenium.webdriver.chrome.service import Service\n",
    "from selenium.common.exceptions import TimeoutException\n",
    "from selenium.webdriver.support.ui import WebDriverWait\n",
    "from selenium.webdriver.support import expected_conditions as EC\n",
    "from selenium.webdriver.common.by import By\n",
    "\n",
    "my_options = webdriver.ChromeOptions()\n",
    "# my_options.add_argument(\"--headless\")\n",
    "my_options.add_argument(\"--start-maximized\")         \n",
    "my_options.add_argument(\"--incognito\")         \n",
    "my_options.add_argument(\"--disable-popup-blocking\")\n",
    "my_options.add_argument(\"--disable-notifications\") \n",
    "my_options.add_argument(\"--lang=zh-TW\")\n",
    "\n",
    "driver = webdriver.Chrome(\n",
    "    options = my_options\n",
    ")\n",
    "\n",
    "list_data = []"
   ]
  },
  {
   "cell_type": "code",
   "execution_count": 9,
   "metadata": {},
   "outputs": [],
   "source": [
    "for i in range(2):\n",
    "    driver.execute_script('window.open(\"\");')"
   ]
  },
  {
   "cell_type": "code",
   "execution_count": 13,
   "metadata": {},
   "outputs": [],
   "source": [
    "driver.switch_to.window(driver.window_handles[0])"
   ]
  },
  {
   "cell_type": "code",
   "execution_count": 14,
   "metadata": {},
   "outputs": [],
   "source": [
    "for index in range (1, len(driver.window_handles)):\n",
    "    driver.switch_to.window(driver.window_handles[index])\n",
    "\n",
    "    driver.get(f\"https://web-ch.scu.edu.tw/chinese/file/3423?page={index}\")\n",
    "\n",
    "    for a in driver.find_elements(By.CSS_SELECTOR, 'table.table-striped.table-border tbody tr a'):\n",
    "        list_data.append({\n",
    "            'title': a.get_attribute('innerText'),\n",
    "            'link': a.get_attribute('href')\n",
    "        })"
   ]
  },
  {
   "cell_type": "code",
   "execution_count": 15,
   "metadata": {},
   "outputs": [],
   "source": [
    "while len(driver.window_handles) > 1:\n",
    "    driver.switch_to.window(\n",
    "        driver.window_handles[0\n",
    "            # len(driver.window_handles) - 1\n",
    "        ]\n",
    "    )\n",
    "    driver.close()"
   ]
  },
  {
   "cell_type": "code",
   "execution_count": 16,
   "metadata": {},
   "outputs": [],
   "source": [
    "driver.quit()"
   ]
  },
  {
   "cell_type": "code",
   "execution_count": 17,
   "metadata": {},
   "outputs": [
    {
     "data": {
      "text/plain": [
       "[{'title': '《東吳中文學報》第46期',\n",
       "  'link': 'https://web-ch.scu.edu.tw/chinese/file/3423/14878'},\n",
       " {'title': '《東吳中文學報》第45期',\n",
       "  'link': 'https://web-ch.scu.edu.tw/chinese/file/3423/14147'},\n",
       " {'title': '《東吳中文學報》第44期',\n",
       "  'link': 'https://web-ch.scu.edu.tw/chinese/file/3423/13608'},\n",
       " {'title': '《東吳中文學報》第43期',\n",
       "  'link': 'https://web-ch.scu.edu.tw/chinese/file/3423/12516'},\n",
       " {'title': '《東吳中文學報》第42期',\n",
       "  'link': 'https://web-ch.scu.edu.tw/chinese/file/3423/11777'},\n",
       " {'title': '《東吳中文學報》第41期',\n",
       "  'link': 'https://web-ch.scu.edu.tw/chinese/file/3423/11013'},\n",
       " {'title': '《東吳中文學報》第40期',\n",
       "  'link': 'https://web-ch.scu.edu.tw/chinese/file/3423/10279'},\n",
       " {'title': '《東吳中文學報》第39期',\n",
       "  'link': 'https://web-ch.scu.edu.tw/chinese/file/3423/9564'},\n",
       " {'title': '《東吳中文學報》第38期',\n",
       "  'link': 'https://web-ch.scu.edu.tw/chinese/file/3423/9004'},\n",
       " {'title': '《東吳中文學報》第37期',\n",
       "  'link': 'https://web-ch.scu.edu.tw/chinese/file/3423/8765'},\n",
       " {'title': '《東吳中文學報》第36期',\n",
       "  'link': 'https://web-ch.scu.edu.tw/chinese/file/3423/7834'},\n",
       " {'title': '《東吳中文學報》第35期',\n",
       "  'link': 'https://web-ch.scu.edu.tw/chinese/file/3423/6781'},\n",
       " {'title': '《東吳中文學報》第34期',\n",
       "  'link': 'https://web-ch.scu.edu.tw/chinese/file/3423/6242'},\n",
       " {'title': '《東吳中文學報》第33期',\n",
       "  'link': 'https://web-ch.scu.edu.tw/chinese/file/3423/5327'},\n",
       " {'title': '《東吳中文學報》第32期',\n",
       "  'link': 'https://web-ch.scu.edu.tw/chinese/file/3423/4631'},\n",
       " {'title': '《東吳中文學報》第31期',\n",
       "  'link': 'https://web-ch.scu.edu.tw/chinese/file/3423/2851'},\n",
       " {'title': '《東吳中文學報》第30期',\n",
       "  'link': 'https://web-ch.scu.edu.tw/chinese/file/3423/2850'},\n",
       " {'title': '《東吳中文學報》第29期',\n",
       "  'link': 'https://web-ch.scu.edu.tw/chinese/file/3423/2849'},\n",
       " {'title': '《東吳中文學報》第28期',\n",
       "  'link': 'https://web-ch.scu.edu.tw/chinese/file/3423/2848'},\n",
       " {'title': '《東吳中文學報》第27期',\n",
       "  'link': 'https://web-ch.scu.edu.tw/chinese/file/3423/2847'}]"
      ]
     },
     "execution_count": 17,
     "metadata": {},
     "output_type": "execute_result"
    }
   ],
   "source": [
    "list_data"
   ]
  }
 ],
 "metadata": {
  "kernelspec": {
   "display_name": "web_scraping",
   "language": "python",
   "name": "python3"
  },
  "language_info": {
   "codemirror_mode": {
    "name": "ipython",
    "version": 3
   },
   "file_extension": ".py",
   "mimetype": "text/x-python",
   "name": "python",
   "nbconvert_exporter": "python",
   "pygments_lexer": "ipython3",
   "version": "3.10.15"
  }
 },
 "nbformat": 4,
 "nbformat_minor": 2
}

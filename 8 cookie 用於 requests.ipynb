{
 "cells": [
  {
   "cell_type": "markdown",
   "id": "af7c99e7",
   "metadata": {},
   "source": [
    "# 以 PTT Gossiiping (八卦版) 為例"
   ]
  },
  {
   "cell_type": "code",
   "execution_count": 1,
   "id": "cd2ac08a",
   "metadata": {},
   "outputs": [
    {
     "name": "stdout",
     "output_type": "stream",
     "text": [
      "Re: [新聞] 陳傑憲贈「中華隊」給周杰倫 粉專嗆爆\n",
      "https://www.ptt.cc/bbs/Gossiping/M.1733918257.A.C4D.html\n",
      "[問卦] 女友覺得我很帥 該怎辦?\n",
      "https://www.ptt.cc/bbs/Gossiping/M.1733918446.A.C5A.html\n",
      "[問卦] 鄭捷當初是不是太衝動了?\n",
      "https://www.ptt.cc/bbs/Gossiping/M.1733918473.A.9A8.html\n",
      "[問卦] 去泡男湯的時候不小心勃起會怎樣嗎\n",
      "https://www.ptt.cc/bbs/Gossiping/M.1733918484.A.359.html\n",
      "[新聞] 快訊／被尹錫悅拒之門外！韓警：感到遺\n",
      "https://www.ptt.cc/bbs/Gossiping/M.1733918498.A.08F.html\n",
      "Re: [新聞] 台88轎車故障!女下車放警示牌 遭砂石車撞\n",
      "https://www.ptt.cc/bbs/Gossiping/M.1733918501.A.AA3.html\n",
      "[新聞] 對賺錢企業喊話！郭智輝：明年幫員工加薪\n",
      "https://www.ptt.cc/bbs/Gossiping/M.1733918513.A.AE7.html\n",
      "Re: [問卦] 台語很難在日常使用吧？\n",
      "https://www.ptt.cc/bbs/Gossiping/M.1733918542.A.475.html\n",
      "[問卦] 其實麥當勞超健康的？\n",
      "https://www.ptt.cc/bbs/Gossiping/M.1733918544.A.6F8.html\n",
      "[新聞] 486先生點名鍾明軒 王婉諭：別變成我們想\n",
      "https://www.ptt.cc/bbs/Gossiping/M.1733918561.A.CA4.html\n",
      "Re: [問卦]警界腐敗越來越誇張 難道大家不覺得嚴重？\n",
      "https://www.ptt.cc/bbs/Gossiping/M.1733918591.A.0B2.html\n",
      "[問卦] 故宮為什麼不把中國的垃圾還回去？\n",
      "https://www.ptt.cc/bbs/Gossiping/M.1733918725.A.E45.html\n",
      "Re: [問卦] 法律系為什麼那麼愛廢死啊？\n",
      "https://www.ptt.cc/bbs/Gossiping/M.1733918749.A.742.html\n",
      "Re: [問卦] 月光、躺平就不會被騙了吧\n",
      "https://www.ptt.cc/bbs/Gossiping/M.1733918801.A.E1D.html\n",
      "[新聞] 紀錄片揭中國收買台灣網紅讓國台辦氣炸 \n",
      "https://www.ptt.cc/bbs/Gossiping/M.1733918827.A.05C.html\n",
      "[問卦] 主管的生日卡片要寫什麼才不失禮\n",
      "https://www.ptt.cc/bbs/Gossiping/M.1733918851.A.DC8.html\n",
      "[問卦] 法律人進來一下\n",
      "https://www.ptt.cc/bbs/Gossiping/M.1733918872.A.C9A.html\n",
      "[問卦] 有沒有“情節最嚴重”之罪的八卦啊？\n",
      "https://www.ptt.cc/bbs/Gossiping/M.1733918901.A.7DB.html\n",
      "[問卦] 社恐可以怎麼度過聖誕節？\n",
      "https://www.ptt.cc/bbs/Gossiping/M.1733918968.A.0CD.html\n",
      "Re: [問卦] 所以現在質疑八炯就 = 五毛 ?\n",
      "https://www.ptt.cc/bbs/Gossiping/M.1733919044.A.9D3.html\n",
      "[公告] 八卦板板規(2024.07.21)\n",
      "https://www.ptt.cc/bbs/Gossiping/M.1721519414.A.6A1.html\n",
      "Fw: [公告] 請留意新註冊帳號使用信件詐騙\n",
      "https://www.ptt.cc/bbs/Gossiping/M.1730554547.A.41C.html\n",
      "[公告] 十一月看正版挺台灣Team Tawian置底閒聊區\n",
      "https://www.ptt.cc/bbs/Gossiping/M.1732424712.A.375.html\n"
     ]
    }
   ],
   "source": [
    "import requests as req\n",
    "from bs4 import BeautifulSoup as bs\n",
    "\n",
    " # PTT Gossiiping (八卦版) \n",
    "url = \"https://www.ptt.cc/bbs/Gossiping/index.html\"\n",
    "\n",
    "# 首頁網址\n",
    "prefix = 'https://www.ptt.cc'\n",
    "\n",
    "# 設定 cookie\n",
    "my_cookies = {\n",
    "    \"over18\": \"1\"\n",
    "}\n",
    "\n",
    "# 用 requests 的 get 方法把網頁抓下來\n",
    "res = req.get(url, cookies = my_cookies) \n",
    "\n",
    "# 指定 lxml 作為解析器\n",
    "soup = bs(res.text, \"lxml\")\n",
    "\n",
    "# 顯示連結列表\n",
    "for a in soup.select('div.r-ent > div.title > a'):\n",
    "    print(a.get_text())\n",
    "    print(prefix + a['href'])"
   ]
  }
 ],
 "metadata": {
  "kernelspec": {
   "display_name": "web_scraping_py3.10",
   "language": "python",
   "name": "python3"
  },
  "language_info": {
   "codemirror_mode": {
    "name": "ipython",
    "version": 3
   },
   "file_extension": ".py",
   "mimetype": "text/x-python",
   "name": "python",
   "nbconvert_exporter": "python",
   "pygments_lexer": "ipython3",
   "version": "3.10.15"
  }
 },
 "nbformat": 4,
 "nbformat_minor": 5
}

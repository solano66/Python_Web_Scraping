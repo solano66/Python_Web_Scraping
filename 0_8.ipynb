{
 "cells": [
  {
   "cell_type": "code",
   "execution_count": 4,
   "metadata": {},
   "outputs": [
    {
     "name": "stdout",
     "output_type": "stream",
     "text": [
      "[問卦] 外型到何等級要保養私密處？\n",
      "https://www.ptt.cc/bbs/Gossiping/M.1733197772.A.4D0.html\n",
      "[問卦] 割喉案學生，出獄後能當什麼官阿？\n",
      "https://www.ptt.cc/bbs/Gossiping/M.1733197804.A.F5A.html\n",
      "[問卦] 突然有女同學吃飯時坐我對面該怎麼辦\n",
      "https://www.ptt.cc/bbs/Gossiping/M.1733197835.A.1BA.html\n",
      "[新聞] 酒後砍友48刀奪命 67歲罹癌被告再延\n",
      "https://www.ptt.cc/bbs/Gossiping/M.1733197855.A.984.html\n",
      "[問卦] 台灣離奇命案還有哪些\n",
      "https://www.ptt.cc/bbs/Gossiping/M.1733197858.A.1EE.html\n",
      "[問卦] 比賽剛開始先發投手就爆掉了怎麼辦\n",
      "https://www.ptt.cc/bbs/Gossiping/M.1733197867.A.D3D.html\n",
      "Re: [新聞] 藍挺反廢死遊行 綠黨團批操作廢死沒良知\n",
      "https://www.ptt.cc/bbs/Gossiping/M.1733197886.A.445.html\n",
      "[問卦] 同學都叫我卡比獸可以驕傲嗎\n",
      "https://www.ptt.cc/bbs/Gossiping/M.1733197933.A.946.html\n",
      "[問卦] 尿尿結塊代表什麼\n",
      "https://www.ptt.cc/bbs/Gossiping/M.1733197933.A.76D.html\n",
      "Re: [新聞] 警察進校園帶走學生 盧秀燕向老師道歉了\n",
      "https://www.ptt.cc/bbs/Gossiping/M.1733197989.A.C2A.html\n",
      "[問卦] 國小打人 國中殺人 現代小孩這麼兇？\n",
      "https://www.ptt.cc/bbs/Gossiping/M.1733197999.A.F71.html\n",
      "[問卦] 最色的捉i劇情？\n",
      "https://www.ptt.cc/bbs/Gossiping/M.1733198067.A.F40.html\n",
      "[公告] 八卦板板規(2024.07.21)\n",
      "https://www.ptt.cc/bbs/Gossiping/M.1721519414.A.6A1.html\n",
      "Fw: [公告] 請留意新註冊帳號使用信件詐騙\n",
      "https://www.ptt.cc/bbs/Gossiping/M.1730554547.A.41C.html\n",
      "[協尋] 尋人啟事 朋友的爸爸有失智老人\n",
      "https://www.ptt.cc/bbs/Gossiping/M.1731945199.A.90D.html\n",
      "[公告] 十一月看正版挺台灣Team Tawian置底閒聊區\n",
      "https://www.ptt.cc/bbs/Gossiping/M.1732424712.A.375.html\n",
      "Fw: [公告] 關於 #1dIHKWhw (Gossiping) 該公告\n",
      "https://www.ptt.cc/bbs/Gossiping/M.1732892401.A.3C7.html\n"
     ]
    }
   ],
   "source": [
    "import requests as req\n",
    "from bs4 import BeautifulSoup as bs\n",
    "\n",
    " # PTT Gossiiping (八卦版) \n",
    "url = \"https://www.ptt.cc/bbs/Gossiping/index.html\"\n",
    "\n",
    "# 首頁網址\n",
    "prefix = 'https://www.ptt.cc'\n",
    "\n",
    "my_cookies = {\n",
    "    \"over18\": \"1\"\n",
    "}\n",
    "\n",
    "res = req.get(url, cookies=my_cookies)\n",
    "\n",
    "soup = bs(res.text, \"lxml\")\n",
    "\n",
    "for a in soup.select('div.r-ent > div.title > a[href]'):\n",
    "    print(a.get_text())\n",
    "    print(prefix + a['href'])"
   ]
  }
 ],
 "metadata": {
  "kernelspec": {
   "display_name": "web_scraping",
   "language": "python",
   "name": "python3"
  },
  "language_info": {
   "codemirror_mode": {
    "name": "ipython",
    "version": 3
   },
   "file_extension": ".py",
   "mimetype": "text/x-python",
   "name": "python",
   "nbconvert_exporter": "python",
   "pygments_lexer": "ipython3",
   "version": "3.10.15"
  }
 },
 "nbformat": 4,
 "nbformat_minor": 2
}

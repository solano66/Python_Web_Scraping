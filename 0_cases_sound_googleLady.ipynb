{
 "cells": [
  {
   "cell_type": "code",
   "execution_count": 1,
   "metadata": {},
   "outputs": [
    {
     "name": "stdout",
     "output_type": "stream",
     "text": [
      "我的優點就是帥，缺點就是帥得不明顯 下載成功\n"
     ]
    }
   ],
   "source": [
    "import subprocess\n",
    "from urllib.parse import quote, unquote\n",
    "import os\n",
    "\n",
    "q = '我的優點就是帥，缺點就是帥得不明顯'\n",
    "\n",
    "encoded_sentence = quote(q)\n",
    "\n",
    "cmd = [\n",
    "    'curl',\n",
    "    '-X',\n",
    "    'GET',\n",
    "    f'https://translate.google.com/translate_tts?ie=UTF-8&client=tw-ob&tl=zh-TW&q={encoded_sentence}',\n",
    "    '-o',\n",
    "    f'./{q}.mp3'\n",
    "]\n",
    "\n",
    "std_output = subprocess.run(cmd)\n",
    "if std_output.returncode == 0:\n",
    "    print(f\"{q} 下載成功\")\n",
    "else:\n",
    "    print(f\"{q} 下載失敗\")"
   ]
  },
  {
   "cell_type": "code",
   "execution_count": 2,
   "metadata": {},
   "outputs": [
    {
     "name": "stdout",
     "output_type": "stream",
     "text": [
      "我的優點就是帥，缺點就是帥得不明顯_atempo 轉換成功\n"
     ]
    }
   ],
   "source": [
    "cmd = [\n",
    "    './ffmpeg/bin/ffmpeg.exe',\n",
    "    '-i',\n",
    "    f'./{q}.mp3',\n",
    "    '-filter:a',\n",
    "    'atempo=1.5',\n",
    "    f'./{q}_atempo.mp3'\n",
    "]\n",
    "\n",
    "std_output = subprocess.run(cmd)\n",
    "if std_output.returncode == 0:\n",
    "    print(f\"{q}_atempo 轉換成功\")\n",
    "else:\n",
    "    print(f\"{q}_atempo 轉換失敗\")"
   ]
  }
 ],
 "metadata": {
  "kernelspec": {
   "display_name": "web_scraping",
   "language": "python",
   "name": "python3"
  },
  "language_info": {
   "codemirror_mode": {
    "name": "ipython",
    "version": 3
   },
   "file_extension": ".py",
   "mimetype": "text/x-python",
   "name": "python",
   "nbconvert_exporter": "python",
   "pygments_lexer": "ipython3",
   "version": "3.10.15"
  }
 },
 "nbformat": 4,
 "nbformat_minor": 2
}
